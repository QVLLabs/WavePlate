{
  "nbformat": 4,
  "nbformat_minor": 0,
  "metadata": {
    "colab": {
      "provenance": []
    },
    "kernelspec": {
      "name": "python3",
      "display_name": "Python 3"
    },
    "language_info": {
      "name": "python"
    }
  },
  "cells": [
    {
      "cell_type": "code",
      "execution_count": null,
      "metadata": {
        "id": "sxxnfogZPDJP"
      },
      "outputs": [],
      "source": [
        "!pip install waveplate"
      ]
    },
    {
      "cell_type": "code",
      "source": [
        "# impletation of the Deutsch-Jozsa algorithm ( 2 qubits )\n",
        "\n",
        "# variable 1 can be 0 or 1\n",
        "v1 = 1\n",
        "\n",
        "# variable 2 can be 0 or 1\n",
        "v2 = 0\n",
        "\n",
        "qc = PhtotonicCircuit()\n",
        "\n",
        "qc.BS(135)\n",
        "\n",
        "if v1 == 0: qc.HWP(0,0)  # if v1 = 0 apply HWP with θ = 0 to the first path\n",
        "if v1 == 1: qc.HWP(90,0) # if v1 = 1 apply HWP with θ = 90 to the first path\n",
        "\n",
        "if v2 == 0: qc.HWP(0,1) # if v2 = 0 apply HWP with θ = 0 to the second path\n",
        "if v2 == 1: qc.HWP(90,1)  # if v2 = 1 apply HWP with θ = 90 to the second path\n",
        "\n",
        "qc.mirror(135) # apply a mirror to all possible paths with θ = 135\n",
        "qc.BS(135) # Meet all paths at a second beam splitter with θ = 135\n",
        "\n",
        "probs = qc.measure_probs(shots=100)\n",
        "\n",
        "if '|RH>' in probs and probs['|RH>'] >= 100:print('v1 is equal \"=\" to v2 100% \" qc confirm :) \"')\n",
        "elif '|DH>' in probs and probs['|DH>'] >= 100: print('v1 is not equal \"!=\" to v2 100% \" qc confirm :) \"')\n",
        "\n",
        "\"\"\"\n",
        "This is the diagram if v1 = 0 and v1 = 1\n",
        "\n",
        ">----BS----HWP(0)-----\\\n",
        "     |                |\n",
        "  HWP(90)             |\n",
        "     |                |\n",
        "     \\----------------BS---- photoresisitor1\n",
        "                      |\n",
        "               photoresisitor2\n",
        "\"\"\"\n"
      ],
      "metadata": {
        "id": "mJEpoK7YPNvz"
      },
      "execution_count": null,
      "outputs": []
    }
  ]
}
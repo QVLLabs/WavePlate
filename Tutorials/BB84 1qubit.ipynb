{
  "cells": [
    {
      "cell_type": "code",
      "execution_count": null,
      "metadata": {
        "id": "_PUhzEamR_59"
      },
      "outputs": [],
      "source": [
        "!pip install waveplate"
      ]
    },
    {
      "cell_type": "code",
      "execution_count": null,
      "metadata": {
        "id": "9884HYovSEBV"
      },
      "outputs": [],
      "source": [
        "# BB84 protocol with 1 qubit\n",
        "from waveplate import * \n",
        "\n",
        "qc = PhtotonicCircuit()\n",
        "\n",
        "# data can be 0 or 1\n",
        "data = 1\n",
        "\n",
        "if data == 1: qc.HWP(135) # turn the qubit to the |RV> state with phase of e^(iπ)\n",
        "\n",
        "alice_basis = 'Z' # it can be Z or X\n",
        "\n",
        "if alice_basis == 'X': qc.HWP(22.5) # put the qubit is a superposition of |H> and |V>\n",
        "if alice_basis == 'Z': qc.HWP(45) # flip the qubit to the |V> state\n",
        "\n",
        "bob_basis = 'Z'# it can be Z or X\n",
        "\n",
        "if bob_basis == 'X': qc.HWP(22.5) # put the qubit is a superposition of |H> and |V>\n",
        "if bob_basis == 'Z': qc.HWP(45) # flip the qubit to the |V> state\n",
        "\n",
        "qc.PBS(90) # transmit |H> state (0) reflect |V> state (1)\n",
        "\n",
        "probs = qc.measure_probs() # get the probalilities\n",
        "\n",
        "if '|RH>' in probs and probs['|RH>'] >= 100: print(f'Bob receives a 0 100% and Alice has sent a {data} ')\n",
        "elif '|DV>' in probs and probs['|DV>'] >= 100: print(f'Bob receives a 1 100% and Alice has sent a {data}')\n",
        "else:\n",
        "  for idx,i in enumerate(probs.keys()): print(f'Bob got a {idx} {probs[i]}% of the time')\n",
        "  print('looks like Alice and bob didnt apply the same basis ( Cancel this qubit )')\n",
        "\n",
        "\"\"\"\n",
        "This is the diagram if data = 1 , alice basis = Z , bob basis = X\n",
        "\n",
        ">----HWP(135)----HWP(45)----HWP(22.5)----PBS---photoresistor1\n",
        "                                          |\n",
        "                                    photoresistor2\n",
        "\n",
        "\"\"\""
      ]
    }
  ],
  "metadata": {
    "colab": {
      "provenance": []
    },
    "kernelspec": {
      "display_name": "Python 3",
      "name": "python3"
    },
    "language_info": {
      "name": "python"
    }
  },
  "nbformat": 4,
  "nbformat_minor": 0
}

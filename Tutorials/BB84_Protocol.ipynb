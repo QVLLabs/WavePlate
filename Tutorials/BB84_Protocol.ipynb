{
  "nbformat": 4,
  "nbformat_minor": 0,
  "metadata": {
    "colab": {
      "provenance": []
    },
    "kernelspec": {
      "name": "python3",
      "display_name": "Python 3"
    },
    "language_info": {
      "name": "python"
    }
  },
  "cells": [
    {
      "cell_type": "code",
      "execution_count": null,
      "metadata": {
        "id": "_PUhzEamR_59"
      },
      "outputs": [],
      "source": [
        "!pip install waveplate"
      ]
    },
    {
      "cell_type": "code",
      "source": [
        "# BB84 protocol with 1 qubit\n",
        "\n",
        "qc = PhtotonicCircuit()\n",
        "\n",
        "# data can be 0 or 1\n",
        "data = 1\n",
        "\n",
        "if data == 1: qc.HWP(135) # turn the qubit to the |RV> state with phase of e^(iπ)\n",
        "\n",
        "alice_basis = 'Z' # it can be Z or X\n",
        "\n",
        "if alice_basis == 'X': qc.HWP(22.5) # put the qubit is a superposition of |H> and |V>\n",
        "if alice_basis == 'Z': qc.HWP(45) # flip the qubit to the |V> state\n",
        "\n",
        "bob_basis = 'Z'# it can be Z or X\n",
        "\n",
        "if bob_basis == 'X': qc.HWP(22.5) # put the qubit is a superposition of |H> and |V>\n",
        "if bob_basis == 'Z': qc.HWP(45) # flip the qubit to the |V> state\n",
        "\n",
        "qc.PBS(90) # transmit |H> state (0) reflect |V> state (1)\n",
        "\n",
        "probs = qc.measure_probs() # get the probalilities\n",
        "\n",
        "if '|RH>' in probs and probs['|RH>'] >= 100: print(f'Bob receives a 0 100% and Alice has sent a {data} ')\n",
        "elif '|DV>' in probs and probs['|DV>'] >= 100: print(f'Bob receives a 1 100% and Alice has sent a {data}')\n",
        "else:\n",
        "  for idx,i in enumerate(probs.keys()): print(f'Bob got a {idx} {probs[i]}% of the time')\n",
        "  print('looks like Alice and bob didnt apply the same basis ( Cancel this qubit )')\n",
        "\n",
        "\"\"\"\n",
        "This is the diagram if data = 1 , alice basis = Z , bob basis = X\n",
        "\n",
        ">----HWP(135)----HWP(45)----HWP(22.5)----PBS---photoresistor1\n",
        "                                          |\n",
        "                                    photoresistor2\n",
        "\n",
        "\"\"\""
      ],
      "metadata": {
        "id": "9884HYovSEBV"
      },
      "execution_count": null,
      "outputs": []
    },
    {
      "cell_type": "code",
      "source": [
        "# BB84 protocol -- QKD -- with 2 qubit\n",
        "\n",
        "qc = PhtotonicCircuit()\n",
        "\n",
        "qc.BS(135) # beam splitter\n",
        "\n",
        "# data can be any 2 bit string\n",
        "data = '01'\n",
        "\n",
        "alice_basis = 'XX' # 2 basis for 2 qubits\n",
        "bob_basis = 'XZ' # it can be Z or X\n",
        "\n",
        "# data encoding with half wave plates\n",
        "if data[0] == '1': qc.HWP(135,0) # turn qubit 0 to the |RV> state with phase of e^(iπ)\n",
        "if data[1] == '1': qc.HWP(135,1) # turn the qubit 1 to the |DV> state with phase of e^(iπ)\n",
        "\n",
        "# apply basis\n",
        "def apply_basis(basis1):\n",
        "  for idx,i in enumerate(basis1):\n",
        "    if i == 'X':\n",
        "      qc.HWP(22.5,idx)\n",
        "    if i == 'Z':\n",
        "      qc.HWP(45,idx)\n",
        "apply_basis(alice_basis)\n",
        "apply_basis(bob_basis)\n",
        "\n",
        "\n",
        "qc.mirror(135) # apply mirror to all paths\n",
        "\n",
        "qc.PBS(90) # polarizing beam splitter\n",
        "\n",
        "probs = qc.measure_probs() # get the probalilities\n",
        "\n",
        "print(probs)\n",
        "\n",
        "bit0 = {'|DH>':0,'|RV>':1}\n",
        "bit1 = {'|DV>':1,'|RH>':0}\n",
        "\n",
        "\n",
        "st = list('00')\n",
        "error = {0:0,1:0}\n",
        "for i in probs.keys():\n",
        "  if len(probs) == 2:\n",
        "    if i in bit0: st[0] = str(bit0[i])\n",
        "    if i in bit1: st[1] = str(bit1[i])\n",
        "  else:\n",
        "    if i in bit0: error[0] += 1\n",
        "    if i in bit1: error[1] += 1\n",
        "\n",
        "st = ''.join(st)\n",
        "if st == data: print('got the same data')\n",
        "else:\n",
        "  for idx,i in enumerate(error.keys()):\n",
        "    if error[i] > 1: print(f'bit {idx} is wrong looks lke alice and bob didnt apply the same basis cancel it out')\n",
        "    else: print(f'bit {idx} matches alices :)')\n",
        "\n",
        "\"\"\"\n",
        "This is the diagram if data = '01'\n",
        "                       alice_basis = 'XX'\n",
        "                       bob_basis = 'XZ'\n",
        "\n",
        ">----BS----HWP(22.5)--HWP(22.5)---\\\n",
        "     |                          |\n",
        "  HWP(135)                      |\n",
        "     |                         PBS--- photoresisitor1\n",
        "  HWP(22.5)                      |\n",
        "     |                   photoresisitor2\n",
        "   HWP(45)\n",
        "     |\n",
        "     \\----------PBS---- photoresisitor3\n",
        "                 |\n",
        "           photoresisitor4\n",
        "         \"\"\"\n"
      ],
      "metadata": {
        "id": "FdrrjAloSBvf"
      },
      "execution_count": null,
      "outputs": []
    }
  ]
}
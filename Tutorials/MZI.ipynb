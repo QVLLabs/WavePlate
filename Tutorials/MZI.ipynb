{
  "cells": [
    {
      "cell_type": "code",
      "execution_count": null,
      "metadata": {
        "id": "sxxnfogZPDJP"
      },
      "outputs": [],
      "source": [
        "!pip install waveplate"
      ]
    },
    {
      "cell_type": "code",
      "execution_count": null,
      "metadata": {
        "id": "mJEpoK7YPNvz"
      },
      "outputs": [],
      "source": [
        "# a simple tutorial (MZI)\n",
        "from waveplate import * \n",
        "\n",
        "qc = PhtotonicCircuit()\n",
        "\n",
        "# apply a beam splitter at an angle of 135\n",
        "qc.BS(135)\n",
        "\n",
        "# apply a HWP with an angle of 45 to the first bath only\n",
        "#qc.HWP(45,0)\n",
        "\n",
        "#qc.show_state()\n",
        "\n",
        "# apply a beam splitter at an angle of 135 to both path\n",
        "qc.mirror(135)\n",
        "\n",
        "qc.show_state()\n",
        "\n",
        "# meet at another BS at an angle of 135\n",
        "\n",
        "qc.BS(135)\n",
        "\n",
        "#This will show all possible states (RH,RV,UH,UV,etc)\n",
        "qc.show_state()\n",
        "\n",
        "#This will show only two polarizations states ( |H> and |V> ) for any direction ( 0 , 1 , 2 , 3)\n",
        "#qc.compute(0) # 0 is the right drection\n",
        "\n",
        "#This will measure the probilities \"Default shots is set to 100\" by running the circuit \"shots\" times\n",
        "\n",
        "\n",
        "print(qc.measure_probs(shots=1000))\n",
        "\n",
        "\"\"\"\n",
        "This is the diagram\n",
        "\n",
        ">----BS----HWP(45)-----\\\n",
        "     |                |\n",
        "     |                |\n",
        "     |                |\n",
        "     \\----------------BS---- photoresisitor1\n",
        "                      |\n",
        "               photoresisitor2\n",
        "\"\"\""
      ]
    }
  ],
  "metadata": {
    "colab": {
      "provenance": []
    },
    "kernelspec": {
      "display_name": "Python 3",
      "name": "python3"
    },
    "language_info": {
      "name": "python"
    }
  },
  "nbformat": 4,
  "nbformat_minor": 0
}
